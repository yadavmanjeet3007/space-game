{
 "cells": [
  {
   "cell_type": "code",
   "execution_count": 1,
   "id": "eb797c80",
   "metadata": {},
   "outputs": [
    {
     "name": "stdout",
     "output_type": "stream",
     "text": [
      "pygame 2.1.2 (SDL 2.0.18, Python 3.8.8)\n",
      "Hello from the pygame community. https://www.pygame.org/contribute.html\n",
      "YOU WIN\n"
     ]
    }
   ],
   "source": [
    "import pygame\n",
    "\n",
    "screen_size = [320,500]\n",
    "screen = pygame.display.set_mode(screen_size)\n",
    "\n",
    "background = pygame.image.load('background.jpg')\n",
    "spaceship = pygame.image.load('spaceship.png')\n",
    "bullet = pygame.image.load('bullet.png')\n",
    "bullet_y = 400\n",
    "fired = False\n",
    "\n",
    "planets=['planet_1.png','planet_2.png','planet_3.png']\n",
    "p_index = 0\n",
    "planet = pygame.image.load(planets[p_index])\n",
    "planet_x = 100\n",
    "move_direction = 'right'\n",
    "\n",
    "keep_alive = True\n",
    "clock = pygame.time.Clock()\n",
    "\n",
    "\n",
    "while keep_alive:\n",
    "    pygame.event.get()\n",
    "    keys = pygame.key.get_pressed()\n",
    "    if keys[pygame.K_SPACE] == True:\n",
    "        fired = True\n",
    "        bullet_y = 450\n",
    "        \n",
    "    if fired == True:\n",
    "        bullet_y = bullet_y - 5\n",
    "        if bullet_y == 50:\n",
    "            fired = False\n",
    "            bullet_y = 400\n",
    "    \n",
    "    screen.blit(background,[0,0])\n",
    "    screen.blit(bullet,[100,bullet_y])\n",
    "    screen.blit(spaceship,[100,400])\n",
    "    \n",
    "    if move_direction == 'right':\n",
    "        planet_x = planet_x + 5\n",
    "        if planet_x == 200:\n",
    "            move_direction = 'left'\n",
    "    else:\n",
    "        planet_x = planet_x - 5\n",
    "        if planet_x == 0:\n",
    "            move_direction = 'right'\n",
    "        \n",
    "    screen.blit(planet,[planet_x,50])\n",
    "    \n",
    "    if bullet_y < 80 and planet_x > 120 and planet_x < 180:\n",
    "        p_index = p_index + 1\n",
    "        if p_index < len (planets):\n",
    "            planet = pygame.image.load(planets[p_index])\n",
    "            planet_x = 10\n",
    "        else:\n",
    "            print('YOU WON')\n",
    "            keep_alive = False\n",
    "    pygame.display.update()\n",
    "    clock.tick(30)\n",
    "    "
   ]
  },
  {
   "cell_type": "code",
   "execution_count": null,
   "id": "a3cf93d9",
   "metadata": {},
   "outputs": [],
   "source": []
  }
 ],
 "metadata": {
  "kernelspec": {
   "display_name": "Python 3",
   "language": "python",
   "name": "python3"
  },
  "language_info": {
   "codemirror_mode": {
    "name": "ipython",
    "version": 3
   },
   "file_extension": ".py",
   "mimetype": "text/x-python",
   "name": "python",
   "nbconvert_exporter": "python",
   "pygments_lexer": "ipython3",
   "version": "3.8.8"
  }
 },
 "nbformat": 4,
 "nbformat_minor": 5
}
